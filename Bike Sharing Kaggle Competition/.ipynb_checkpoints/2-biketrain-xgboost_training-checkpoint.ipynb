{
 "cells": [
  {
   "cell_type": "code",
   "execution_count": 1,
   "metadata": {},
   "outputs": [],
   "source": [
    "import numpy as np\n",
    "import pandas as pd\n",
    "\n",
    "# Define IAM role\n",
    "import boto3\n",
    "import re\n",
    "import sagemaker\n",
    "from sagemaker import get_execution_role\n",
    "\n",
    "# SageMaker SDK Documentation: http://sagemaker.readthedocs.io/en/latest/estimators.html"
   ]
  },
  {
   "cell_type": "markdown",
   "metadata": {},
   "source": [
    "## Upload Data to S3"
   ]
  },
  {
   "cell_type": "code",
   "execution_count": 4,
   "metadata": {},
   "outputs": [],
   "source": [
    "bucket_name = 'spk-sagemaker-ncal'\n",
    "training_file_key = 'biketrain/bike_train.csv'\n",
    "validation_file_key = 'biketrain/bike_validation.csv'\n",
    "test_file_key = 'biketrain/bike_test.csv'\n",
    "\n",
    "s3_model_output_location = r's3://{0}/biketrain/model'.format(bucket_name)\n",
    "s3_training_file_location = r's3://{0}/{1}'.format(bucket_name,training_file_key)\n",
    "s3_validation_file_location = r's3://{0}/{1}'.format(bucket_name,validation_file_key)\n",
    "s3_test_file_location = r's3://{0}/{1}'.format(bucket_name,test_file_key)"
   ]
  },
  {
   "cell_type": "code",
   "execution_count": 5,
   "metadata": {},
   "outputs": [
    {
     "name": "stdout",
     "output_type": "stream",
     "text": [
      "s3://spk-sagemaker-ncal/biketrain/model\n",
      "s3://spk-sagemaker-ncal/biketrain/bike_train.csv\n",
      "s3://spk-sagemaker-ncal/biketrain/bike_validation.csv\n",
      "s3://spk-sagemaker-ncal/biketrain/bike_test.csv\n"
     ]
    }
   ],
   "source": [
    "print(s3_model_output_location)\n",
    "print(s3_training_file_location)\n",
    "print(s3_validation_file_location)\n",
    "print(s3_test_file_location)"
   ]
  },
  {
   "cell_type": "code",
   "execution_count": 6,
   "metadata": {},
   "outputs": [],
   "source": [
    "# http://boto3.readthedocs.io/en/latest/guide/s3.html\n",
    "# S3 Naming conventions. \n",
    "# ----------------------\n",
    "# files      = objects in S3.  \n",
    "# file name  = key name in S3.\n",
    "\n",
    "def write_to_s3(filename, bucket, key):\n",
    "    with open(filename,'rb') as f: # Read in binary mode\n",
    "        return boto3.Session().resource('s3').Bucket(bucket).Object(key).upload_fileobj(f)"
   ]
  },
  {
   "cell_type": "code",
   "execution_count": 7,
   "metadata": {},
   "outputs": [],
   "source": [
    "write_to_s3('bike_train.csv',bucket_name,training_file_key)\n",
    "write_to_s3('bike_validation.csv',bucket_name,validation_file_key)\n",
    "write_to_s3('bike_test.csv',bucket_name,test_file_key)"
   ]
  },
  {
   "cell_type": "markdown",
   "metadata": {},
   "source": [
    "## Training Algorithm Docker Image\n",
    "### AWS Maintains a separate image for every region and algorithm"
   ]
  },
  {
   "cell_type": "code",
   "execution_count": 8,
   "metadata": {},
   "outputs": [],
   "source": [
    "# Registry Path for algorithms provided by SageMaker\n",
    "#  https://docs.aws.amazon.com/sagemaker/latest/dg/sagemaker-algo-docker-registry-paths.html\n",
    "\n",
    "containers = {'us-west-1': '746614075791.dkr.ecr.us-west-1.amazonaws.com/sagemaker-xgboost:1.0-1-cpu-py3',  # N.Cal\n",
    "              'us-west-2': '246618743249.dkr.ecr.us-west-2.amazonaws.com/sagemaker-xgboost:1.0-1-cpu-py3',  # Oregon \n",
    "              'us-east-1': '683313688378.dkr.ecr.us-east-1.amazonaws.com/sagemaker-xgboost:1.0-1-cpu-py3',  # N.Virginia\n",
    "              'us-east-2': '257758044811.dkr.ecr.us-east-2.amazonaws.com/sagemaker-xgboost:1.0-1-cpu-py3',  # Ohio\n",
    "              'eu-west-1': '141502667606.dkr.ecr.eu-west-1.amazonaws.com/sagemaker-xgboost:1.0-1-cpu-py3'}  # Ireland \n",
    "              #'eu-west-1': '141502667606.dkr.ecr.eu-west-1.amazonaws.com/xgboost:latest'}  # Ireland "
   ]
  },
  {
   "cell_type": "code",
   "execution_count": 9,
   "metadata": {},
   "outputs": [],
   "source": [
    "role = get_execution_role()"
   ]
  },
  {
   "cell_type": "code",
   "execution_count": 10,
   "metadata": {},
   "outputs": [
    {
     "name": "stdout",
     "output_type": "stream",
     "text": [
      "arn:aws:iam::420656776846:role/service-role/AmazonSageMaker-ExecutionRole-20201103T123604\n"
     ]
    }
   ],
   "source": [
    "# This role contains the permissions needed to train, deploy models\n",
    "# SageMaker Service is trusted to assume this role\n",
    "print(role)"
   ]
  },
  {
   "cell_type": "markdown",
   "metadata": {},
   "source": [
    "## Build Model"
   ]
  },
  {
   "cell_type": "code",
   "execution_count": 11,
   "metadata": {},
   "outputs": [],
   "source": [
    "sess = sagemaker.Session()"
   ]
  },
  {
   "cell_type": "code",
   "execution_count": 12,
   "metadata": {},
   "outputs": [
    {
     "name": "stderr",
     "output_type": "stream",
     "text": [
      "Parameter image_name will be renamed to image_uri in SageMaker Python SDK v2.\n"
     ]
    }
   ],
   "source": [
    "#Access appropriate algorithm container image\n",
    "#Specify how many instances to use for distributed training and what type of machine to use\n",
    "#Finally, specify where the trained model artifacts needs to be stored\n",
    "#Reference: http://sagemaker.readthedocs.io/en/latest/estimators.html\n",
    "#Optionally, give a name to the training job using base_job_name\n",
    "\n",
    "#https://docs.aws.amazon.com/sagemaker/latest/dg/ex1-train-model.html\n",
    "\n",
    "estimator = sagemaker.estimator.Estimator(containers[boto3.Session().region_name],\n",
    "                                          role, \n",
    "                                          train_instance_count=1, \n",
    "                                          train_instance_type='ml.m4.xlarge',\n",
    "                                          output_path=s3_model_output_location,\n",
    "                                          sagemaker_session=sess,\n",
    "                                          base_job_name ='xgboost-biketrain-v1')"
   ]
  },
  {
   "cell_type": "code",
   "execution_count": 13,
   "metadata": {},
   "outputs": [],
   "source": [
    "#Specify hyper parameters that appropriate for the training algorithm\n",
    "#XGBoost Training Parameter Reference: \n",
    "#https://github.com/dmlc/xgboost/blob/master/doc/parameter.rst\n",
    "\n",
    "#max_depth=5,eta=0.1,subsample=0.7,num_round=150\n",
    "estimator.set_hyperparameters(max_depth=5,\n",
    "                              objective=\"reg:linear\",\n",
    "                              eta=0.1,\n",
    "                              gamma=4,\n",
    "                              min_child_weight = 6,\n",
    "                              subsample=0.7,\n",
    "                              num_round=150)"
   ]
  },
  {
   "cell_type": "markdown",
   "metadata": {
    "collapsed": true
   },
   "source": [
    "### Specify Training Data Location and Optionally, Validation Data Location"
   ]
  },
  {
   "cell_type": "code",
   "execution_count": 14,
   "metadata": {},
   "outputs": [
    {
     "name": "stderr",
     "output_type": "stream",
     "text": [
      "'s3_input' class will be renamed to 'TrainingInput' in SageMaker Python SDK v2.\n",
      "'s3_input' class will be renamed to 'TrainingInput' in SageMaker Python SDK v2.\n"
     ]
    }
   ],
   "source": [
    "# content type can be libsvm or csv for XGBoost\n",
    "training_input_config = sagemaker.session.s3_input(s3_data=s3_training_file_location,content_type=\"csv\")\n",
    "validation_input_config = sagemaker.session.s3_input(s3_data=s3_validation_file_location,content_type=\"csv\")"
   ]
  },
  {
   "cell_type": "code",
   "execution_count": 21,
   "metadata": {},
   "outputs": [
    {
     "name": "stdout",
     "output_type": "stream",
     "text": [
      "{'DataSource': {'S3DataSource': {'S3DataType': 'S3Prefix', 'S3Uri': 's3://spk-sagemaker-ncal/biketrain/bike_train.csv', 'S3DataDistributionType': 'FullyReplicated'}}, 'ContentType': 'csv'}\n",
      "{'DataSource': {'S3DataSource': {'S3DataType': 'S3Prefix', 'S3Uri': 's3://spk-sagemaker-ncal/biketrain/bike_validation.csv', 'S3DataDistributionType': 'FullyReplicated'}}, 'ContentType': 'csv'}\n"
     ]
    }
   ],
   "source": [
    "print(training_input_config.config)\n",
    "print(validation_input_config.config)"
   ]
  },
  {
   "cell_type": "markdown",
   "metadata": {},
   "source": [
    "### Train the model"
   ]
  },
  {
   "cell_type": "code",
   "execution_count": 17,
   "metadata": {},
   "outputs": [
    {
     "name": "stdout",
     "output_type": "stream",
     "text": [
      "2020-11-03 12:19:28 Starting - Starting the training job...\n",
      "2020-11-03 12:19:33 Starting - Launching requested ML instances.........\n",
      "2020-11-03 12:21:02 Starting - Preparing the instances for training...\n",
      "2020-11-03 12:21:41 Downloading - Downloading input data......\n",
      "2020-11-03 12:22:42 Training - Downloading the training image..\u001b[34mINFO:sagemaker-containers:Imported framework sagemaker_xgboost_container.training\u001b[0m\n",
      "\u001b[34mINFO:sagemaker-containers:Failed to parse hyperparameter objective value reg:linear to Json.\u001b[0m\n",
      "\u001b[34mReturning the value itself\u001b[0m\n",
      "\u001b[34mINFO:sagemaker-containers:No GPUs detected (normal if no gpus installed)\u001b[0m\n",
      "\u001b[34mINFO:sagemaker_xgboost_container.training:Running XGBoost Sagemaker in algorithm mode\u001b[0m\n",
      "\u001b[34mINFO:root:Determined delimiter of CSV input is ','\u001b[0m\n",
      "\u001b[34mINFO:root:Determined delimiter of CSV input is ','\u001b[0m\n",
      "\u001b[34mINFO:root:Determined delimiter of CSV input is ','\u001b[0m\n",
      "\u001b[34m[12:23:05] 7620x13 matrix with 99060 entries loaded from /opt/ml/input/data/train?format=csv&label_column=0&delimiter=,\u001b[0m\n",
      "\u001b[34mINFO:root:Determined delimiter of CSV input is ','\u001b[0m\n",
      "\u001b[34m[12:23:05] 3266x13 matrix with 42458 entries loaded from /opt/ml/input/data/validation?format=csv&label_column=0&delimiter=,\u001b[0m\n",
      "\u001b[34mINFO:root:Single node training.\u001b[0m\n",
      "\u001b[34mINFO:root:Train matrix has 7620 rows\u001b[0m\n",
      "\u001b[34mINFO:root:Validation matrix has 3266 rows\u001b[0m\n",
      "\u001b[34m[12:23:05] WARNING: /workspace/src/objective/regression_obj.cu:167: reg:linear is now deprecated in favor of reg:squarederror.\u001b[0m\n",
      "\u001b[34m[12:23:05] WARNING: /workspace/src/learner.cc:328: \u001b[0m\n",
      "\u001b[34mParameters: { num_round } might not be used.\n",
      "\n",
      "  This may not be accurate due to some parameters are only used in language bindings but\n",
      "  passed down to XGBoost core.  Or some parameters are not used but slip through this\n",
      "  verification. Please open an issue if you find above cases.\n",
      "\n",
      "\u001b[0m\n",
      "\u001b[34m[0]#011train-rmse:242.17452#011validation-rmse:240.75812\u001b[0m\n",
      "\u001b[34m[1]#011train-rmse:222.78468#011validation-rmse:221.50203\u001b[0m\n",
      "\u001b[34m[2]#011train-rmse:205.73614#011validation-rmse:204.41447\u001b[0m\n",
      "\u001b[34m[3]#011train-rmse:190.65376#011validation-rmse:189.29517\u001b[0m\n",
      "\u001b[34m[4]#011train-rmse:177.53897#011validation-rmse:176.27588\u001b[0m\n",
      "\u001b[34m[5]#011train-rmse:166.16890#011validation-rmse:164.92978\u001b[0m\n",
      "\u001b[34m[6]#011train-rmse:155.98355#011validation-rmse:154.72839\u001b[0m\n",
      "\u001b[34m[7]#011train-rmse:146.60657#011validation-rmse:145.48505\u001b[0m\n",
      "\u001b[34m[8]#011train-rmse:138.61322#011validation-rmse:137.69237\u001b[0m\n",
      "\u001b[34m[9]#011train-rmse:131.60112#011validation-rmse:130.94348\u001b[0m\n",
      "\u001b[34m[10]#011train-rmse:124.11394#011validation-rmse:123.74837\u001b[0m\n",
      "\u001b[34m[11]#011train-rmse:118.48510#011validation-rmse:118.25588\u001b[0m\n",
      "\u001b[34m[12]#011train-rmse:112.51032#011validation-rmse:112.55187\u001b[0m\n",
      "\u001b[34m[13]#011train-rmse:105.24181#011validation-rmse:105.73249\u001b[0m\n",
      "\u001b[34m[14]#011train-rmse:101.25506#011validation-rmse:101.75069\u001b[0m\n",
      "\u001b[34m[15]#011train-rmse:95.33433#011validation-rmse:96.27352\u001b[0m\n",
      "\u001b[34m[16]#011train-rmse:91.60308#011validation-rmse:92.67847\u001b[0m\n",
      "\u001b[34m[17]#011train-rmse:87.67451#011validation-rmse:89.03884\u001b[0m\n",
      "\u001b[34m[18]#011train-rmse:84.61209#011validation-rmse:86.17396\u001b[0m\n",
      "\u001b[34m[19]#011train-rmse:80.63106#011validation-rmse:82.33420\u001b[0m\n",
      "\u001b[34m[20]#011train-rmse:78.39677#011validation-rmse:80.23428\u001b[0m\n",
      "\u001b[34m[21]#011train-rmse:75.76099#011validation-rmse:77.68224\u001b[0m\n",
      "\u001b[34m[22]#011train-rmse:72.10173#011validation-rmse:74.33637\u001b[0m\n",
      "\u001b[34m[23]#011train-rmse:70.44590#011validation-rmse:72.77611\u001b[0m\n",
      "\u001b[34m[24]#011train-rmse:68.50261#011validation-rmse:70.94544\u001b[0m\n",
      "\u001b[34m[25]#011train-rmse:66.98595#011validation-rmse:69.55023\u001b[0m\n",
      "\u001b[34m[26]#011train-rmse:65.81773#011validation-rmse:68.40925\u001b[0m\n",
      "\u001b[34m[27]#011train-rmse:63.12503#011validation-rmse:65.99908\u001b[0m\n",
      "\u001b[34m[28]#011train-rmse:62.18161#011validation-rmse:65.11088\u001b[0m\n",
      "\u001b[34m[29]#011train-rmse:60.29814#011validation-rmse:63.38160\u001b[0m\n",
      "\u001b[34m[30]#011train-rmse:58.27716#011validation-rmse:61.49734\u001b[0m\n",
      "\u001b[34m[31]#011train-rmse:57.45261#011validation-rmse:60.75291\u001b[0m\n",
      "\u001b[34m[32]#011train-rmse:56.87541#011validation-rmse:60.19188\u001b[0m\n",
      "\u001b[34m[33]#011train-rmse:56.40384#011validation-rmse:59.73546\u001b[0m\n",
      "\u001b[34m[34]#011train-rmse:54.97190#011validation-rmse:58.45311\u001b[0m\n",
      "\u001b[34m[35]#011train-rmse:54.52144#011validation-rmse:58.00565\u001b[0m\n",
      "\u001b[34m[36]#011train-rmse:54.05508#011validation-rmse:57.60519\u001b[0m\n",
      "\u001b[34m[37]#011train-rmse:52.59459#011validation-rmse:56.22818\u001b[0m\n",
      "\u001b[34m[38]#011train-rmse:52.10984#011validation-rmse:55.79805\u001b[0m\n",
      "\u001b[34m[39]#011train-rmse:50.95475#011validation-rmse:54.71965\u001b[0m\n",
      "\u001b[34m[40]#011train-rmse:50.58164#011validation-rmse:54.44248\u001b[0m\n",
      "\u001b[34m[41]#011train-rmse:50.26316#011validation-rmse:54.13277\u001b[0m\n",
      "\u001b[34m[42]#011train-rmse:49.86273#011validation-rmse:53.81852\u001b[0m\n",
      "\u001b[34m[43]#011train-rmse:49.55507#011validation-rmse:53.57605\u001b[0m\n",
      "\u001b[34m[44]#011train-rmse:49.21277#011validation-rmse:53.26677\u001b[0m\n",
      "\u001b[34m[45]#011train-rmse:49.01154#011validation-rmse:53.04735\u001b[0m\n",
      "\u001b[34m[46]#011train-rmse:48.64678#011validation-rmse:52.67501\u001b[0m\n",
      "\u001b[34m[47]#011train-rmse:48.39045#011validation-rmse:52.48891\u001b[0m\n",
      "\u001b[34m[48]#011train-rmse:48.18341#011validation-rmse:52.31657\u001b[0m\n",
      "\u001b[34m[49]#011train-rmse:47.83388#011validation-rmse:51.99705\u001b[0m\n",
      "\u001b[34m[50]#011train-rmse:47.59558#011validation-rmse:51.79296\u001b[0m\n",
      "\u001b[34m[51]#011train-rmse:47.19921#011validation-rmse:51.51234\u001b[0m\n",
      "\u001b[34m[52]#011train-rmse:46.44616#011validation-rmse:50.87169\u001b[0m\n",
      "\u001b[34m[53]#011train-rmse:45.82076#011validation-rmse:50.33503\u001b[0m\n",
      "\u001b[34m[54]#011train-rmse:45.50662#011validation-rmse:50.06678\u001b[0m\n",
      "\u001b[34m[55]#011train-rmse:45.34011#011validation-rmse:49.95133\u001b[0m\n",
      "\u001b[34m[56]#011train-rmse:44.74659#011validation-rmse:49.46177\u001b[0m\n",
      "\u001b[34m[57]#011train-rmse:44.58705#011validation-rmse:49.31155\u001b[0m\n",
      "\u001b[34m[58]#011train-rmse:43.84627#011validation-rmse:48.69347\u001b[0m\n",
      "\u001b[34m[59]#011train-rmse:43.23771#011validation-rmse:48.16450\u001b[0m\n",
      "\u001b[34m[60]#011train-rmse:43.09071#011validation-rmse:48.02314\u001b[0m\n",
      "\u001b[34m[61]#011train-rmse:42.88284#011validation-rmse:47.92744\u001b[0m\n",
      "\u001b[34m[62]#011train-rmse:42.63142#011validation-rmse:47.78602\u001b[0m\n",
      "\u001b[34m[63]#011train-rmse:42.50769#011validation-rmse:47.71498\u001b[0m\n",
      "\u001b[34m[64]#011train-rmse:42.38084#011validation-rmse:47.61116\u001b[0m\n",
      "\u001b[34m[65]#011train-rmse:42.16840#011validation-rmse:47.42970\u001b[0m\n",
      "\u001b[34m[66]#011train-rmse:41.97818#011validation-rmse:47.25277\u001b[0m\n",
      "\u001b[34m[67]#011train-rmse:41.73479#011validation-rmse:47.07155\u001b[0m\n",
      "\u001b[34m[68]#011train-rmse:41.61355#011validation-rmse:46.95251\u001b[0m\n",
      "\u001b[34m[69]#011train-rmse:41.42909#011validation-rmse:46.82305\u001b[0m\n",
      "\u001b[34m[70]#011train-rmse:41.33181#011validation-rmse:46.77391\u001b[0m\n",
      "\u001b[34m[71]#011train-rmse:41.13751#011validation-rmse:46.65501\u001b[0m\n",
      "\u001b[34m[72]#011train-rmse:40.85155#011validation-rmse:46.37661\u001b[0m\n",
      "\u001b[34m[73]#011train-rmse:40.72556#011validation-rmse:46.29306\u001b[0m\n",
      "\u001b[34m[74]#011train-rmse:40.58270#011validation-rmse:46.16566\u001b[0m\n",
      "\u001b[34m[75]#011train-rmse:40.41675#011validation-rmse:46.10465\u001b[0m\n",
      "\u001b[34m[76]#011train-rmse:40.34388#011validation-rmse:46.02108\u001b[0m\n",
      "\u001b[34m[77]#011train-rmse:40.10537#011validation-rmse:45.83348\u001b[0m\n",
      "\u001b[34m[78]#011train-rmse:39.98732#011validation-rmse:45.74172\u001b[0m\n",
      "\u001b[34m[79]#011train-rmse:39.70704#011validation-rmse:45.51456\u001b[0m\n",
      "\u001b[34m[80]#011train-rmse:39.60302#011validation-rmse:45.40980\u001b[0m\n",
      "\u001b[34m[81]#011train-rmse:39.52068#011validation-rmse:45.37556\u001b[0m\n",
      "\u001b[34m[82]#011train-rmse:39.43882#011validation-rmse:45.31290\u001b[0m\n",
      "\u001b[34m[83]#011train-rmse:39.31462#011validation-rmse:45.23405\u001b[0m\n",
      "\u001b[34m[84]#011train-rmse:39.21932#011validation-rmse:45.19378\u001b[0m\n",
      "\u001b[34m[85]#011train-rmse:38.97006#011validation-rmse:44.92741\u001b[0m\n",
      "\u001b[34m[86]#011train-rmse:38.56424#011validation-rmse:44.58061\u001b[0m\n",
      "\u001b[34m[87]#011train-rmse:38.47488#011validation-rmse:44.52272\u001b[0m\n",
      "\u001b[34m[88]#011train-rmse:38.37145#011validation-rmse:44.50182\u001b[0m\n",
      "\u001b[34m[89]#011train-rmse:38.28580#011validation-rmse:44.45988\u001b[0m\n",
      "\u001b[34m[90]#011train-rmse:38.17490#011validation-rmse:44.38593\u001b[0m\n",
      "\u001b[34m[91]#011train-rmse:38.05076#011validation-rmse:44.31311\u001b[0m\n",
      "\u001b[34m[92]#011train-rmse:37.90082#011validation-rmse:44.23977\u001b[0m\n",
      "\u001b[34m[93]#011train-rmse:37.71959#011validation-rmse:44.08970\u001b[0m\n",
      "\u001b[34m[94]#011train-rmse:37.63963#011validation-rmse:44.05693\u001b[0m\n",
      "\u001b[34m[95]#011train-rmse:37.46756#011validation-rmse:43.90489\u001b[0m\n",
      "\u001b[34m[96]#011train-rmse:37.28720#011validation-rmse:43.73092\u001b[0m\n",
      "\u001b[34m[97]#011train-rmse:37.07224#011validation-rmse:43.56103\u001b[0m\n",
      "\u001b[34m[98]#011train-rmse:36.95672#011validation-rmse:43.56043\u001b[0m\n",
      "\u001b[34m[99]#011train-rmse:36.80310#011validation-rmse:43.43366\u001b[0m\n",
      "\u001b[34m[100]#011train-rmse:36.74326#011validation-rmse:43.40480\u001b[0m\n",
      "\u001b[34m[101]#011train-rmse:36.64853#011validation-rmse:43.32213\u001b[0m\n",
      "\u001b[34m[102]#011train-rmse:36.49064#011validation-rmse:43.20431\u001b[0m\n",
      "\u001b[34m[103]#011train-rmse:36.37223#011validation-rmse:43.15604\u001b[0m\n",
      "\u001b[34m[104]#011train-rmse:36.28180#011validation-rmse:43.10633\u001b[0m\n",
      "\u001b[34m[105]#011train-rmse:36.17039#011validation-rmse:43.06953\u001b[0m\n",
      "\u001b[34m[106]#011train-rmse:36.10652#011validation-rmse:43.04456\u001b[0m\n",
      "\u001b[34m[107]#011train-rmse:36.02577#011validation-rmse:43.00860\u001b[0m\n",
      "\u001b[34m[108]#011train-rmse:35.98814#011validation-rmse:42.99820\u001b[0m\n",
      "\u001b[34m[109]#011train-rmse:35.88055#011validation-rmse:42.91365\u001b[0m\n",
      "\u001b[34m[110]#011train-rmse:35.84131#011validation-rmse:42.89222\u001b[0m\n",
      "\u001b[34m[111]#011train-rmse:35.65218#011validation-rmse:42.75700\u001b[0m\n",
      "\u001b[34m[112]#011train-rmse:35.41194#011validation-rmse:42.61171\u001b[0m\n",
      "\u001b[34m[113]#011train-rmse:35.30523#011validation-rmse:42.55551\u001b[0m\n",
      "\u001b[34m[114]#011train-rmse:35.28506#011validation-rmse:42.53095\u001b[0m\n",
      "\u001b[34m[115]#011train-rmse:35.22758#011validation-rmse:42.45336\u001b[0m\n",
      "\u001b[34m[116]#011train-rmse:35.10297#011validation-rmse:42.40281\u001b[0m\n",
      "\u001b[34m[117]#011train-rmse:35.04503#011validation-rmse:42.36951\u001b[0m\n",
      "\u001b[34m[118]#011train-rmse:34.93738#011validation-rmse:42.30969\u001b[0m\n",
      "\u001b[34m[119]#011train-rmse:34.89406#011validation-rmse:42.28248\u001b[0m\n",
      "\u001b[34m[120]#011train-rmse:34.82411#011validation-rmse:42.24757\u001b[0m\n",
      "\u001b[34m[121]#011train-rmse:34.75031#011validation-rmse:42.19350\u001b[0m\n",
      "\u001b[34m[122]#011train-rmse:34.61440#011validation-rmse:42.14807\u001b[0m\n",
      "\u001b[34m[123]#011train-rmse:34.54730#011validation-rmse:42.16110\u001b[0m\n",
      "\u001b[34m[124]#011train-rmse:34.46883#011validation-rmse:42.13151\u001b[0m\n",
      "\u001b[34m[125]#011train-rmse:34.33432#011validation-rmse:42.05048\u001b[0m\n",
      "\u001b[34m[126]#011train-rmse:34.20036#011validation-rmse:41.99824\u001b[0m\n",
      "\u001b[34m[127]#011train-rmse:34.12054#011validation-rmse:41.96089\u001b[0m\n",
      "\u001b[34m[128]#011train-rmse:34.10839#011validation-rmse:41.96044\u001b[0m\n",
      "\u001b[34m[129]#011train-rmse:34.07332#011validation-rmse:41.93553\u001b[0m\n",
      "\u001b[34m[130]#011train-rmse:34.00056#011validation-rmse:41.88471\u001b[0m\n",
      "\u001b[34m[131]#011train-rmse:33.75144#011validation-rmse:41.64195\u001b[0m\n",
      "\u001b[34m[132]#011train-rmse:33.66082#011validation-rmse:41.61033\u001b[0m\n",
      "\u001b[34m[133]#011train-rmse:33.62997#011validation-rmse:41.60255\u001b[0m\n",
      "\u001b[34m[134]#011train-rmse:33.56881#011validation-rmse:41.60880\u001b[0m\n",
      "\u001b[34m[135]#011train-rmse:33.48149#011validation-rmse:41.63697\u001b[0m\n",
      "\u001b[34m[136]#011train-rmse:33.33279#011validation-rmse:41.56273\u001b[0m\n",
      "\u001b[34m[137]#011train-rmse:33.25682#011validation-rmse:41.52209\u001b[0m\n",
      "\u001b[34m[138]#011train-rmse:33.22871#011validation-rmse:41.49445\u001b[0m\n",
      "\u001b[34m[139]#011train-rmse:33.16257#011validation-rmse:41.49436\u001b[0m\n",
      "\u001b[34m[140]#011train-rmse:33.08550#011validation-rmse:41.47097\u001b[0m\n",
      "\u001b[34m[141]#011train-rmse:33.01992#011validation-rmse:41.44928\u001b[0m\n",
      "\u001b[34m[142]#011train-rmse:32.98574#011validation-rmse:41.43832\u001b[0m\n",
      "\u001b[34m[143]#011train-rmse:32.84056#011validation-rmse:41.30048\u001b[0m\n",
      "\u001b[34m[144]#011train-rmse:32.76279#011validation-rmse:41.28726\u001b[0m\n",
      "\u001b[34m[145]#011train-rmse:32.72430#011validation-rmse:41.26802\u001b[0m\n",
      "\u001b[34m[146]#011train-rmse:32.64996#011validation-rmse:41.23123\u001b[0m\n",
      "\u001b[34m[147]#011train-rmse:32.61884#011validation-rmse:41.21078\u001b[0m\n",
      "\u001b[34m[148]#011train-rmse:32.59842#011validation-rmse:41.20112\u001b[0m\n",
      "\u001b[34m[149]#011train-rmse:32.56587#011validation-rmse:41.19658\u001b[0m\n"
     ]
    },
    {
     "name": "stdout",
     "output_type": "stream",
     "text": [
      "\n",
      "2020-11-03 12:23:23 Uploading - Uploading generated training model\n",
      "2020-11-03 12:23:30 Completed - Training job completed\n",
      "Training seconds: 109\n",
      "Billable seconds: 109\n"
     ]
    }
   ],
   "source": [
    "# XGBoost supports \"train\", \"validation\" channels\n",
    "# Reference: Supported channels by algorithm\n",
    "# https://docs.aws.amazon.com/sagemaker/latest/dg/sagemaker-algo-docker-registry-paths.html\n",
    "estimator.fit({'train':training_input_config, 'validation':validation_input_config})\n",
    "#xgb_model.fit({'train':training_input_config, 'validation':validation_input_config})"
   ]
  },
  {
   "cell_type": "markdown",
   "metadata": {},
   "source": [
    "## Deploy Model"
   ]
  },
  {
   "cell_type": "code",
   "execution_count": 22,
   "metadata": {},
   "outputs": [
    {
     "name": "stderr",
     "output_type": "stream",
     "text": [
      "Parameter image will be renamed to image_uri in SageMaker Python SDK v2.\n",
      "Using already existing model: xgboost-biketrain-v1-2020-11-03-12-19-28-634\n"
     ]
    },
    {
     "name": "stdout",
     "output_type": "stream",
     "text": [
      "-------------!"
     ]
    }
   ],
   "source": [
    "# Ref: http://sagemaker.readthedocs.io/en/latest/estimators.html\n",
    "predictor = estimator.deploy(initial_instance_count=1,\n",
    "                             instance_type = 'ml.m4.xlarge',\n",
    "                             endpoint_name = 'xgboost-biketrain-ver1')"
   ]
  },
  {
   "cell_type": "markdown",
   "metadata": {
    "collapsed": true
   },
   "source": [
    "## Run Predictions"
   ]
  },
  {
   "cell_type": "code",
   "execution_count": 19,
   "metadata": {},
   "outputs": [],
   "source": [
    "from sagemaker.predictor import csv_serializer, json_deserializer\n",
    "\n",
    "predictor.content_type = 'text/csv'\n",
    "predictor.serializer = csv_serializer\n",
    "predictor.deserializer = None"
   ]
  },
  {
   "cell_type": "code",
   "execution_count": 20,
   "metadata": {},
   "outputs": [
    {
     "data": {
      "text/plain": [
       "b'47.38355255126953'"
      ]
     },
     "execution_count": 20,
     "metadata": {},
     "output_type": "execute_result"
    }
   ],
   "source": [
    "predictor.predict([[3,0,1,2,28.7,33.335,79,12.998,2011,7,7,3]])"
   ]
  },
  {
   "cell_type": "code",
   "execution_count": null,
   "metadata": {},
   "outputs": [],
   "source": []
  }
 ],
 "metadata": {
  "kernelspec": {
   "display_name": "conda_python3",
   "language": "python",
   "name": "conda_python3"
  },
  "language_info": {
   "codemirror_mode": {
    "name": "ipython",
    "version": 3
   },
   "file_extension": ".py",
   "mimetype": "text/x-python",
   "name": "python",
   "nbconvert_exporter": "python",
   "pygments_lexer": "ipython3",
   "version": "3.6.10"
  }
 },
 "nbformat": 4,
 "nbformat_minor": 2
}
